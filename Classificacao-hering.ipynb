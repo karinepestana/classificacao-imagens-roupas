{
 "cells": [
  {
   "cell_type": "code",
   "execution_count": 1,
   "metadata": {},
   "outputs": [],
   "source": [
    "import tensorflow as tf\n",
    "import keras_preprocessing\n",
    "from keras_preprocessing import image\n",
    "from keras_preprocessing.image import ImageDataGenerator"
   ]
  },
  {
   "cell_type": "code",
   "execution_count": 3,
   "metadata": {},
   "outputs": [
    {
     "name": "stdout",
     "output_type": "stream",
     "text": [
      "Found 190 images belonging to 10 classes.\n",
      "Found 50 images belonging to 10 classes.\n",
      "Model: \"sequential\"\n",
      "_________________________________________________________________\n",
      "Layer (type)                 Output Shape              Param #   \n",
      "=================================================================\n",
      "conv2d (Conv2D)              (None, 148, 148, 64)      1792      \n",
      "_________________________________________________________________\n",
      "max_pooling2d (MaxPooling2D) (None, 74, 74, 64)        0         \n",
      "_________________________________________________________________\n",
      "conv2d_1 (Conv2D)            (None, 72, 72, 64)        36928     \n",
      "_________________________________________________________________\n",
      "max_pooling2d_1 (MaxPooling2 (None, 36, 36, 64)        0         \n",
      "_________________________________________________________________\n",
      "conv2d_2 (Conv2D)            (None, 34, 34, 128)       73856     \n",
      "_________________________________________________________________\n",
      "max_pooling2d_2 (MaxPooling2 (None, 17, 17, 128)       0         \n",
      "_________________________________________________________________\n",
      "conv2d_3 (Conv2D)            (None, 15, 15, 128)       147584    \n",
      "_________________________________________________________________\n",
      "max_pooling2d_3 (MaxPooling2 (None, 7, 7, 128)         0         \n",
      "_________________________________________________________________\n",
      "flatten (Flatten)            (None, 6272)              0         \n",
      "_________________________________________________________________\n",
      "dropout (Dropout)            (None, 6272)              0         \n",
      "_________________________________________________________________\n",
      "dense (Dense)                (None, 512)               3211776   \n",
      "_________________________________________________________________\n",
      "dense_1 (Dense)              (None, 10)                5130      \n",
      "=================================================================\n",
      "Total params: 3,477,066\n",
      "Trainable params: 3,477,066\n",
      "Non-trainable params: 0\n",
      "_________________________________________________________________\n",
      "Epoch 1/25\n",
      "1/1 [==============================] - ETA: 0s - loss: 2.3024 - accuracy: 0.0781WARNING:tensorflow:Your input ran out of data; interrupting training. Make sure that your dataset or generator can generate at least `steps_per_epoch * epochs` batches (in this case, 3 batches). You may need to use the repeat() function when building your dataset.\n",
      "1/1 [==============================] - 7s 7s/step - loss: 2.3024 - accuracy: 0.0781 - val_loss: 3.1394 - val_accuracy: 0.1000\n",
      "Epoch 2/25\n",
      "1/1 [==============================] - 9s 9s/step - loss: 3.1613 - accuracy: 0.0952\n",
      "Epoch 3/25\n",
      "1/1 [==============================] - 8s 8s/step - loss: 2.3694 - accuracy: 0.0873\n",
      "Epoch 4/25\n",
      "1/1 [==============================] - 5s 5s/step - loss: 2.3085 - accuracy: 0.0625\n",
      "Epoch 5/25\n",
      "1/1 [==============================] - 10s 10s/step - loss: 2.2984 - accuracy: 0.1111\n",
      "Epoch 6/25\n",
      "1/1 [==============================] - 9s 9s/step - loss: 2.3117 - accuracy: 0.0794\n",
      "Epoch 7/25\n",
      "1/1 [==============================] - 6s 6s/step - loss: 2.2989 - accuracy: 0.1406\n",
      "Epoch 8/25\n",
      "1/1 [==============================] - 9s 9s/step - loss: 2.2989 - accuracy: 0.1429\n",
      "Epoch 9/25\n",
      "1/1 [==============================] - 9s 9s/step - loss: 2.2939 - accuracy: 0.1270\n",
      "Epoch 10/25\n",
      "1/1 [==============================] - 7s 7s/step - loss: 2.3194 - accuracy: 0.0794\n",
      "Epoch 11/25\n",
      "1/1 [==============================] - 8s 8s/step - loss: 2.2939 - accuracy: 0.1270\n",
      "Epoch 12/25\n",
      "1/1 [==============================] - 5s 5s/step - loss: 2.2885 - accuracy: 0.1250\n",
      "Epoch 13/25\n",
      "1/1 [==============================] - 8s 8s/step - loss: 2.2758 - accuracy: 0.1190\n",
      "Epoch 14/25\n",
      "1/1 [==============================] - 5s 5s/step - loss: 2.2984 - accuracy: 0.1250\n",
      "Epoch 15/25\n",
      "1/1 [==============================] - 9s 9s/step - loss: 2.2843 - accuracy: 0.1746\n",
      "Epoch 16/25\n",
      "1/1 [==============================] - 4s 4s/step - loss: 2.2520 - accuracy: 0.1250\n",
      "Epoch 17/25\n",
      "1/1 [==============================] - 4s 4s/step - loss: 2.2334 - accuracy: 0.1094\n",
      "Epoch 18/25\n",
      "1/1 [==============================] - 8s 8s/step - loss: 5.0574 - accuracy: 0.1111\n",
      "Epoch 19/25\n",
      "1/1 [==============================] - 4s 4s/step - loss: 2.3097 - accuracy: 0.0938\n",
      "Epoch 20/25\n",
      "1/1 [==============================] - 8s 8s/step - loss: 2.2902 - accuracy: 0.1190\n",
      "Epoch 21/25\n",
      "1/1 [==============================] - 9s 9s/step - loss: 2.2800 - accuracy: 0.1667\n",
      "Epoch 22/25\n",
      "1/1 [==============================] - 9s 9s/step - loss: 2.2740 - accuracy: 0.1032\n",
      "Epoch 23/25\n",
      "1/1 [==============================] - 5s 5s/step - loss: 2.2828 - accuracy: 0.0781\n",
      "Epoch 24/25\n",
      "1/1 [==============================] - 9s 9s/step - loss: 2.2599 - accuracy: 0.1349\n",
      "Epoch 25/25\n",
      "1/1 [==============================] - 5s 5s/step - loss: 2.2049 - accuracy: 0.1875\n"
     ]
    }
   ],
   "source": [
    "TRAINING_DIR = \"roupas-split/train\"\n",
    "training_datagen = ImageDataGenerator(rescale = 1./255,rotation_range=40,width_shift_range=0.2,height_shift_range=0.2,shear_range=0.2,zoom_range=0.2,horizontal_flip=True,fill_mode='nearest')\n",
    "\n",
    "VALIDATION_DIR = \"roupas-split/val\"\n",
    "validation_datagen = ImageDataGenerator(rescale = 1./255)\n",
    "\n",
    "train_generator = training_datagen.flow_from_directory(TRAINING_DIR,target_size=(150,150),class_mode='categorical',batch_size=126)\n",
    "\n",
    "validation_generator = validation_datagen.flow_from_directory(VALIDATION_DIR, target_size=(150,150), class_mode='categorical',batch_size=126)\n",
    "\n",
    "model = tf.keras.models.Sequential([\n",
    "    # Note the input shape is the desired size of the image 150x150 with 3 bytes color\n",
    "    # This is the first convolution\n",
    "    tf.keras.layers.Conv2D(64, (3,3), activation='relu', input_shape=(150, 150, 3)),\n",
    "    tf.keras.layers.MaxPooling2D(2, 2),\n",
    "    # The second convolution\n",
    "    tf.keras.layers.Conv2D(64, (3,3), activation='relu'),\n",
    "    tf.keras.layers.MaxPooling2D(2,2),\n",
    "    # The third convolution\n",
    "    tf.keras.layers.Conv2D(128, (3,3), activation='relu'),\n",
    "    tf.keras.layers.MaxPooling2D(2,2),\n",
    "    # The fourth convolution\n",
    "    tf.keras.layers.Conv2D(128, (3,3), activation='relu'),\n",
    "    tf.keras.layers.MaxPooling2D(2,2),\n",
    "    # Flatten the results to feed into a DNN\n",
    "    tf.keras.layers.Flatten(),\n",
    "    tf.keras.layers.Dropout(0.5),\n",
    "    # 512 neuron hidden layer\n",
    "    tf.keras.layers.Dense(512, activation='relu'),\n",
    "    tf.keras.layers.Dense(10, activation='softmax')\n",
    "])\n",
    "\n",
    "\n",
    "model.summary()\n",
    "\n",
    "model.compile(loss = 'categorical_crossentropy', optimizer='rmsprop', metrics=['accuracy'])\n",
    "\n",
    "history = model.fit(train_generator, epochs=25, steps_per_epoch=1, validation_data = validation_generator, verbose = 1, validation_steps=3)\n",
    "\n",
    "model.save(\"rps.h5\")"
   ]
  },
  {
   "cell_type": "code",
   "execution_count": 4,
   "metadata": {},
   "outputs": [
    {
     "data": {
      "image/png": "[encoded data removed]",
      "text/plain": [
       "<Figure size 432x288 with 1 Axes>"
      ]
     },
     "metadata": {
      "needs_background": "light"
     },
     "output_type": "display_data"
    },
    {
     "data": {
      "text/plain": [
       "<Figure size 432x288 with 0 Axes>"
      ]
     },
     "metadata": {},
     "output_type": "display_data"
    }
   ],
   "source": [
    "import matplotlib.pyplot as plt\n",
    "acc = history.history['accuracy']\n",
    "#val_acc = history.history['val_accuracy']\n",
    "loss = history.history['loss']\n",
    "#val_loss = history.history['val_loss']\n",
    "\n",
    "epochs = range(len(acc))\n",
    "\n",
    "plt.plot(epochs, acc, 'r', label='Training accuracy')\n",
    "#plt.plot(epochs, val_acc, 'b', label='Validation accuracy')\n",
    "plt.title('Training and validation accuracy')\n",
    "plt.legend(loc=0)\n",
    "plt.figure()\n",
    "\n",
    "plt.show()"
   ]
  }
 ],
 "metadata": {
  "kernelspec": {
   "display_name": "Python 3",
   "language": "python",
   "name": "python3"
  },
  "language_info": {
   "codemirror_mode": {
    "name": "ipython",
    "version": 3
   },
   "file_extension": ".py",
   "mimetype": "text/x-python",
   "name": "python",
   "nbconvert_exporter": "python",
   "pygments_lexer": "ipython3",
   "version": "3.8.5"
  }
 },
 "nbformat": 4,
 "nbformat_minor": 4
}

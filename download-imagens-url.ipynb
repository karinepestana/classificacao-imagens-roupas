{
 "cells": [
  {
   "cell_type": "markdown",
   "metadata": {},
   "source": [
    "## Importações"
   ]
  },
  {
   "cell_type": "code",
   "execution_count": 1,
   "metadata": {},
   "outputs": [],
   "source": [
    "import requests\n",
    "import pandas as pd\n",
    "from bs4 import BeautifulSoup\n",
    "import urllib.request\n",
    "\n",
    "from time import sleep\n",
    "from random import randint"
   ]
  },
  {
   "cell_type": "markdown",
   "metadata": {},
   "source": [
    "## Definições"
   ]
  },
  {
   "cell_type": "code",
   "execution_count": 2,
   "metadata": {},
   "outputs": [],
   "source": [
    "def download_urls(link):\n",
    "    result = requests.get(link)\n",
    "    \n",
    "    if result.status_code == 200:\n",
    "        soup = BeautifulSoup(result.content, \"html.parser\")       \n",
    "\n",
    "    urls = []\n",
    "    \n",
    "    for item in soup.find_all('img',{'class':\"thumb product-lazy\"}):\n",
    "        url_imagem = item.get('data-src')\n",
    "\n",
    "        if url_imagem != None:    \n",
    "            urls.append('https:'+ str(url_imagem))\n",
    "    \n",
    "    return urls"
   ]
  },
  {
   "cell_type": "code",
   "execution_count": 3,
   "metadata": {},
   "outputs": [],
   "source": [
    "def download_imagens(lista_url, categoria):\n",
    "    cont = 1\n",
    "    for item in lista_url:\n",
    "        urllib.request.urlretrieve(item,str(categoria) + str(cont) + \".jpg\")\n",
    "        cont = cont+1"
   ]
  },
  {
   "cell_type": "markdown",
   "metadata": {},
   "source": [
    "## Download e divisão em treino teste"
   ]
  },
  {
   "cell_type": "code",
   "execution_count": 6,
   "metadata": {},
   "outputs": [],
   "source": [
    "categorias_roupas = ['bermuda-e-short', 'blusao', 'calca', 'camisa', 'camiseta', 'casaco-e-jaqueta', 'moletom', 'polo', 'regata', 'sueter-e-cardigan']\n",
    "#categorias_roupas = ['regata', 'sueter-e-cardigan']\n",
    "\n",
    "links = []\n",
    "for i in categorias_roupas:\n",
    "    links.append('https://www.hering.com.br/store/pt/d/masculino/roupas/' + str(i))\n",
    "\n",
    "sleep(randint(2,6))\n",
    "    \n",
    "cont = 0\n",
    "\n",
    "for link in links:\n",
    "    download_imagens(download_urls(link),categorias_roupas[cont])\n",
    "    cont=+1"
   ]
  },
  {
   "cell_type": "code",
   "execution_count": null,
   "metadata": {},
   "outputs": [],
   "source": [
    "import splitfolders  \n",
    "\n",
    "input_folder = \"roupas-masculinas\"\n",
    "\n",
    "output_folder = \"roupas-split\"\n",
    "\n",
    "splitfolders.ratio(input_folder, output=output_folder, seed=1337, ratio=(.8, .2), group_prefix=None)"
   ]
  }
 ],
 "metadata": {
  "kernelspec": {
   "display_name": "Python 3",
   "language": "python",
   "name": "python3"
  },
  "language_info": {
   "codemirror_mode": {
    "name": "ipython",
    "version": 3
   },
   "file_extension": ".py",
   "mimetype": "text/x-python",
   "name": "python",
   "nbconvert_exporter": "python",
   "pygments_lexer": "ipython3",
   "version": "3.8.5"
  }
 },
 "nbformat": 4,
 "nbformat_minor": 4
}
